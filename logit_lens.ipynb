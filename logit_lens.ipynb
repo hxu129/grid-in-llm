{
 "cells": [
  {
   "cell_type": "code",
   "execution_count": 1,
   "metadata": {},
   "outputs": [
    {
     "name": "stdout",
     "output_type": "stream",
     "text": [
      "number of parameters: 2.67M\n",
      "Loading meta from data/maze/maze_nav_data/meta.pkl...\n",
      "Starting with: 0 5 0\n",
      "Encoded as: [0, 5, 0]\n",
      "Sample 1:\n",
      "Raw tokens: [0, 5, 0, 101, 91, 101, 96, 102, 99, 102, 49, 100, 38, 103, 26, 101, 41, 102, 61, 100, 6, 101, 67, 101, 94, 103, 66, 100, 6, 103, 85, 103, 23, 100, 55, 102, 94, 101, 43, 100, 49, 102, 94, 102, 43, 103, 33, 103, 43, 102, 39, 101, 19, 100, 27, 100, 9, 102, 48, 103, 19, 101, 12, 103, 24, 102, 39, 100, 46, 100, 18, 102, 34, 103, 19, 101, 29, 80, 100, 26, 101, 61, 55, 103, 28, 101, 62, 103, 8, 101, 67, 103, 18, 101, 42, 102, 50, 102, 18, 100, 39, 101, 6, 101, 12, 61, 103, 79, 102, 70, 103, 13, 102, 89, 103, 44, 102, 89, 103, 39, 103, 59, 102, 64, 103, 68, 102, 79, 102, 102, 97, 103, 103, 4, 103, 18, 102, 58, 2, 44, 102, 47, 102, 21, 100, 55, 100, 2, 102, 13, 101, 92, 103, 11, 100, 42, 102, 50, 102, 38, 6, 59, 43, 45, 1, 47, 56, 86, 43, 7, 12, 103, 52, 100, 41, 102, 11, 103, 50, 101, 65, 72, 20, 100, 19, 78, 38, 56, 102, 19, 100, 17, 102, 31, 103, 96, 101, 93, 103, 35, 100, 1, 19, 103, 8, 101, 97, 101, 72, 87, 103, 35, 102, 40, 51, 2, 102, 43, 101, 70, 102, 93, 102, 18, 102, 77, 103, 29, 102, 85, 100, 7, 102, 68, 100, 38, 103, 41, 102, 41, 102, 89, 100, 63, 66, 28, 33, 59, 69, 74, 93, 72, 95, 57, 57, 92, 93, 69, 61, 58, 63, 8, 102, 69, 102, 70, 103, 84, 33, 84, 98, 8, 82, 14, 101, 4, 102, 48, 37, 7, 102, 45, 60, 21, 17, 48, 34, 101, 94, 101, 79, 101, 55, 101, 100, 84, 102, 26, 101, 102, 31, 100, 49, 102, 89, 100, 39, 103, 7, 100, 29, 101, 4, 29, 79, 42, 103, 15, 94, 21, 47, 40, 9, 101, 73, 72, 70, 88, 101, 7, 4, 94, 86, 3, 20, 38, 66, 17, 101, 66, 102, 85, 100, 95, 103, 4, 3, 18, 101, 79, 103, 7, 24, 95, 23, 100, 13, 100, 7, 62, 78, 7, 20, 101, 29, 102, 62, 49, 101, 82, 102, 68, 101, 41, 56, 100, 44, 97, 4, 89, 1, 5]\n",
      "Decoded: 0 5 0 right 91 right 96 down 99 down 49 up 38 left 26 right 41 down 61 up 6 right 67 right 94 left 66 up 6 left 85 left 23 up 55 down 94 right 43 up 49 down 94 down 43 left 33 left 43 down 39 right 19 up 27 up 9 down 48 left 19 right 12 left 24 down 39 up 46 up 18 down 34 left 19 right 29 80 up 26 right 61 55 left 28 right 62 left 8 right 67 left 18 right 42 down 50 down 18 up 39 right 6 right 12 61 left 79 down 70 left 13 down 89 left 44 down 89 left 39 left 59 down 64 left 68 down 79 down down 97 left left 4 left 18 down 58 2 44 down 47 down 21 up 55 up 2 down 13 right 92 left 11 up 42 down 50 down 38 6 59 43 45 1 47 56 86 43 7 12 left 52 up 41 down 11 left 50 right 65 72 20 up 19 78 38 56 down 19 up 17 down 31 left 96 right 93 left 35 up 1 19 left 8 right 97 right 72 87 left 35 down 40 51 2 down 43 right 70 down 93 down 18 down 77 left 29 down 85 up 7 down 68 up 38 left 41 down 41 down 89 up 63 66 28 33 59 69 74 93 72 95 57 57 92 93 69 61 58 63 8 down 69 down 70 left 84 33 84 98 8 82 14 right 4 down 48 37 7 down 45 60 21 17 48 34 right 94 right 79 right 55 right up 84 down 26 right down 31 up 49 down 89 up 39 left 7 up 29 right 4 29 79 42 left 15 94 21 47 40 9 right 73 72 70 88 right 7 4 94 86 3 20 38 66 17 right 66 down 85 up 95 left 4 3 18 right 79 left 7 24 95 23 up 13 up 7 62 78 7 20 right 29 down 62 49 right 82 down 68 right 41 56 up 44 97 4 89 1 5\n",
      "---------------\n"
     ]
    }
   ],
   "source": [
    "\"\"\"\n",
    "Sample from a trained model\n",
    "\"\"\"\n",
    "import os\n",
    "import pickle\n",
    "from contextlib import nullcontext\n",
    "import torch\n",
    "import tiktoken\n",
    "from model import GPTConfig, GPT\n",
    "\n",
    "# -----------------------------------------------------------------------------\n",
    "init_from = 'resume' # either 'resume' (from an out_dir) or a gpt2 variant (e.g. 'gpt2-xl')\n",
    "out_dir = 'out' # ignored if init_from is not 'resume'\n",
    "start = \"0 5 0\" # or \"<|endoftext|>\" or etc. Can also specify a file, use as: \"FILE:prompt.txt\"\n",
    "num_samples = 1 # number of samples to draw\n",
    "max_new_tokens = 500 # number of tokens generated in each sample\n",
    "temperature = 0.8 # 1.0 = no change, < 1.0 = less random, > 1.0 = more random, in predictions\n",
    "top_k = 200 # retain only the top_k most likely tokens, clamp others to have 0 probability\n",
    "seed = 1337\n",
    "device = 'cuda' # examples: 'cpu', 'cuda', 'cuda:0', 'cuda:1', etc.\n",
    "dtype = 'bfloat16' if torch.cuda.is_available() and torch.cuda.is_bf16_supported() else 'float16' # 'float32' or 'bfloat16' or 'float16'\n",
    "compile = False # use PyTorch 2.0 to compile the model to be faster\n",
    "# -----------------------------------------------------------------------------\n",
    "# Configuration for training GPT on maze navigation data\n",
    "# Optimized for path learning task\n",
    "\n",
    "# I/O\n",
    "out_dir = 'out-maze-nav'\n",
    "eval_interval = 250\n",
    "log_interval = 10\n",
    "eval_iters = 100\n",
    "eval_only = False\n",
    "always_save_checkpoint = True\n",
    "\n",
    "# wandb logging\n",
    "wandb_log = False\n",
    "wandb_project = 'maze-nav'\n",
    "wandb_run_name = 'maze-nav-gpt'\n",
    "\n",
    "# data\n",
    "dataset = 'maze/maze_nav_data'  # This should match your maze data directory\n",
    "gradient_accumulation_steps = 1  # Reduced for smaller sequences\n",
    "batch_size = 32  # Reasonable batch size for path learning\n",
    "max_seq_len = 512  # Maximum sequence length for any path (no artificial limit)\n",
    "\n",
    "# model - smaller model suitable for maze navigation\n",
    "n_layer = 6   # Fewer layers for simpler task\n",
    "n_head = 6    # Fewer attention heads\n",
    "n_embd = 192  # Smaller embedding dimension\n",
    "dropout = 0.1 # Some dropout for regularization\n",
    "bias = False  # Cleaner model\n",
    "\n",
    "# adamw optimizer\n",
    "learning_rate = 3e-4  # Slightly higher learning rate\n",
    "max_iters = 5000      # Fewer iterations needed\n",
    "weight_decay = 1e-1\n",
    "beta1 = 0.9\n",
    "beta2 = 0.95\n",
    "grad_clip = 1.0\n",
    "\n",
    "# learning rate decay settings\n",
    "decay_lr = True\n",
    "warmup_iters = 100    # Quick warmup\n",
    "lr_decay_iters = 5000 # Match max_iters\n",
    "min_lr = 3e-5\n",
    "\n",
    "# DDP settings\n",
    "backend = 'nccl'\n",
    "\n",
    "# system\n",
    "device = 'cuda'\n",
    "# Note: dtype check is done in train.py\n",
    "dtype = 'bfloat16'  # will be validated in train.py\n",
    "compile = False \n",
    "\n",
    "\n",
    "# -----------------------------------------------------------------------------\n",
    "\n",
    "torch.manual_seed(seed)\n",
    "torch.cuda.manual_seed(seed)\n",
    "torch.backends.cuda.matmul.allow_tf32 = True # allow tf32 on matmul\n",
    "torch.backends.cudnn.allow_tf32 = True # allow tf32 on cudnn\n",
    "device_type = 'cuda' if 'cuda' in device else 'cpu' # for later use in torch.autocast\n",
    "ptdtype = {'float32': torch.float32, 'bfloat16': torch.bfloat16, 'float16': torch.float16}[dtype]\n",
    "ctx = nullcontext() if device_type == 'cpu' else torch.amp.autocast(device_type=device_type, dtype=ptdtype)\n",
    "\n",
    "# model\n",
    "if init_from == 'resume':\n",
    "    # init from a model saved in a specific directory\n",
    "    ckpt_path = os.path.join(out_dir, 'ckpt.pt')\n",
    "    checkpoint = torch.load(ckpt_path, map_location=device)\n",
    "    gptconf = GPTConfig(**checkpoint['model_args'])\n",
    "    model = GPT(gptconf)\n",
    "    state_dict = checkpoint['model']\n",
    "    unwanted_prefix = '_orig_mod.'\n",
    "    for k,v in list(state_dict.items()):\n",
    "        if k.startswith(unwanted_prefix):\n",
    "            state_dict[k[len(unwanted_prefix):]] = state_dict.pop(k)\n",
    "    model.load_state_dict(state_dict)\n",
    "elif init_from.startswith('gpt2'):\n",
    "    # init from a given GPT-2 model\n",
    "    model = GPT.from_pretrained(init_from, dict(dropout=0.0))\n",
    "\n",
    "model.eval()\n",
    "model.to(device)\n",
    "if compile:\n",
    "    model = torch.compile(model) # requires PyTorch 2.0 (optional)\n",
    "\n",
    "# look for the meta pickle in case it is available in the dataset folder\n",
    "load_meta = False\n",
    "if init_from == 'resume' and 'config' in checkpoint and 'dataset' in checkpoint['config']: # older checkpoints might not have these...\n",
    "    meta_path = os.path.join('data', checkpoint['config']['dataset'], 'meta.pkl')\n",
    "    load_meta = os.path.exists(meta_path)\n",
    "if load_meta:\n",
    "    print(f\"Loading meta from {meta_path}...\")\n",
    "    with open(meta_path, 'rb') as f:\n",
    "        meta = pickle.load(f)\n",
    "    # Handle both string and integer tokens for maze navigation\n",
    "    stoi, itos = meta['stoi'], meta['itos']\n",
    "    \n",
    "    def encode(s):\n",
    "        if isinstance(s, str):\n",
    "            if s.isdigit():\n",
    "                # Handle numeric node IDs\n",
    "                return [stoi[s]] if s in stoi else [int(s)]\n",
    "            else:\n",
    "                # Handle direction tokens or other strings\n",
    "                tokens = s.split()\n",
    "                return [stoi[token] if token in stoi else int(token) if token.isdigit() else stoi.get(token, 0) for token in tokens]\n",
    "        elif isinstance(s, list):\n",
    "            # Handle list of tokens\n",
    "            return [stoi[str(token)] if str(token) in stoi else (int(token) if isinstance(token, str) and token.isdigit() else token) for token in s]\n",
    "        else:\n",
    "            return [stoi[str(s)] if str(s) in stoi else s]\n",
    "    \n",
    "    def decode(l):\n",
    "        if 'direction_tokens' in meta:\n",
    "            # Maze navigation specific decoding\n",
    "            result = []\n",
    "            for i in l:\n",
    "                token = itos.get(i, str(i))\n",
    "                result.append(token)\n",
    "            return ' '.join(result)\n",
    "        else:\n",
    "            # Standard string concatenation\n",
    "            return ''.join([itos.get(i, str(i)) for i in l])\n",
    "else:\n",
    "    # ok let's assume gpt-2 encodings by default\n",
    "    print(\"No meta.pkl found, assuming GPT-2 encodings...\")\n",
    "    enc = tiktoken.get_encoding(\"gpt2\")\n",
    "    encode = lambda s: enc.encode(s, allowed_special={\"<|endoftext|>\"})\n",
    "    decode = lambda l: enc.decode(l)\n",
    "\n",
    "# encode the beginning of the prompt\n",
    "if start.startswith('FILE:'):\n",
    "    with open(start[5:], 'r', encoding='utf-8') as f:\n",
    "        start = f.read()\n",
    "\n",
    "print(f\"Starting with: {start}\")\n",
    "start_ids = encode(start)\n",
    "print(f\"Encoded as: {start_ids}\")\n",
    "x = (torch.tensor(start_ids, dtype=torch.long, device=device)[None, ...])\n",
    "\n",
    "# run generation\n",
    "with torch.no_grad():\n",
    "    with ctx:\n",
    "        for k in range(num_samples):\n",
    "            y = model.generate(x, max_new_tokens, temperature=temperature, top_k=top_k)\n",
    "            generated_sequence = y[0].tolist()\n",
    "            decoded_output = decode(generated_sequence)\n",
    "            print(f\"Sample {k+1}:\")\n",
    "            print(f\"Raw tokens: {generated_sequence}\")\n",
    "            print(f\"Decoded: {decoded_output}\")\n",
    "            print('---------------')\n"
   ]
  },
  {
   "cell_type": "code",
   "execution_count": 2,
   "metadata": {},
   "outputs": [],
   "source": [
    "# To use the logit lens we have to define tokenizer\n",
    "\n",
    "class MazeNavTokenizer:\n",
    "    def __init__(self, encode, decode):\n",
    "        self.encode = lambda x: torch.tensor(encode(x))\n",
    "        self.decode = lambda x: decode(x)\n",
    "\n",
    "tokenizer = MazeNavTokenizer(encode, decode)"
   ]
  },
  {
   "cell_type": "code",
   "execution_count": 3,
   "metadata": {},
   "outputs": [
    {
     "name": "stdout",
     "output_type": "stream",
     "text": [
      "Model structure:\n",
      "model.base_model: <class 'torch.nn.modules.container.ModuleDict'>\n",
      "model.base_model.h: <class 'torch.nn.modules.container.ModuleList'>\n",
      "\n",
      "All modules in base_model:\n",
      "  h.0.ln_1: <class 'torch.nn.modules.normalization.LayerNorm'>\n",
      "  h.0.ln_2: <class 'torch.nn.modules.normalization.LayerNorm'>\n",
      "  h.1.ln_1: <class 'torch.nn.modules.normalization.LayerNorm'>\n",
      "  h.1.ln_2: <class 'torch.nn.modules.normalization.LayerNorm'>\n",
      "  h.2.ln_1: <class 'torch.nn.modules.normalization.LayerNorm'>\n",
      "  h.2.ln_2: <class 'torch.nn.modules.normalization.LayerNorm'>\n",
      "  h.3.ln_1: <class 'torch.nn.modules.normalization.LayerNorm'>\n",
      "  h.3.ln_2: <class 'torch.nn.modules.normalization.LayerNorm'>\n",
      "  h.4.ln_1: <class 'torch.nn.modules.normalization.LayerNorm'>\n",
      "  h.4.ln_2: <class 'torch.nn.modules.normalization.LayerNorm'>\n",
      "  h.5.ln_1: <class 'torch.nn.modules.normalization.LayerNorm'>\n",
      "  h.5.ln_2: <class 'torch.nn.modules.normalization.LayerNorm'>\n",
      "  ln_f: <class 'torch.nn.modules.normalization.LayerNorm'>\n",
      "\n",
      "Direct access tests:\n",
      "hasattr(model.base_model, 'ln_f'): True\n",
      "hasattr(model.base_model, 'final_layernorm'): True\n",
      "model.base_model.ln_f: <class 'torch.nn.modules.normalization.LayerNorm'>\n",
      "model.base_model.final_layernorm: <class 'torch.nn.modules.normalization.LayerNorm'>\n",
      "model.lm_head: <class 'torch.nn.modules.linear.Linear'>\n"
     ]
    }
   ],
   "source": [
    "# Test if the model structure is compatible with transformer_utils\n",
    "print(\"Model structure:\")\n",
    "print(\"model.base_model:\", type(model.base_model))\n",
    "print(\"model.base_model.h:\", type(model.base_model.h))\n",
    "\n",
    "# Check what modules the library can find\n",
    "print(\"\\nAll modules in base_model:\")\n",
    "for name, module in model.base_model.named_modules():\n",
    "    if 'norm' in name.lower() or 'ln' in name.lower():\n",
    "        print(f\"  {name}: {type(module)}\")\n",
    "\n",
    "# Let's also check the model structure more deeply        \n",
    "print(\"\\nDirect access tests:\")\n",
    "print(\"hasattr(model.base_model, 'ln_f'):\", hasattr(model.base_model, 'ln_f'))\n",
    "print(\"hasattr(model.base_model, 'final_layernorm'):\", hasattr(model.base_model, 'final_layernorm'))\n",
    "\n",
    "if hasattr(model.base_model, 'ln_f'):\n",
    "    print(\"model.base_model.ln_f:\", type(model.base_model.ln_f))\n",
    "if hasattr(model.base_model, 'final_layernorm'):\n",
    "    print(\"model.base_model.final_layernorm:\", type(model.base_model.final_layernorm))\n",
    "print(\"model.lm_head:\", type(model.lm_head))"
   ]
  },
  {
   "cell_type": "code",
   "execution_count": 4,
   "metadata": {},
   "outputs": [
    {
     "name": "stderr",
     "output_type": "stream",
     "text": [
      "/home/xh/miniconda3/envs/general/lib/python3.10/site-packages/tqdm/auto.py:21: TqdmWarning: IProgress not found. Please update jupyter and ipywidgets. See https://ipywidgets.readthedocs.io/en/stable/user_install.html\n",
      "  from .autonotebook import tqdm as notebook_tqdm\n"
     ]
    }
   ],
   "source": [
    "from transformer_utils.logit_lens import plot_logit_lens\n",
    "from transformer_utils.partial_forward import partial_forward"
   ]
  },
  {
   "cell_type": "code",
   "execution_count": 5,
   "metadata": {},
   "outputs": [
    {
     "name": "stdout",
     "output_type": "stream",
     "text": [
      "tensor([ 0, 11,  0])\n",
      "0 11 0 right 94 down 94 down 94 down 84 down 84 down 72 down 94 down 94 down 94 down 94 down 94 down 94 down 94 down 94 up 94 up 94 down 54 down 44 down 43 down 33 up 34 up 15 up 15 up 94 up 94 down 94 down 24 down 25 down 54 down 54 down 54 down 63 down 63 down 84 right 84 down 94 up 94 right 94 up 94 up 19 left 94 left 8 up 8 left 7 left 5 up 3 up 13 up 12 down 12 down 12\n"
     ]
    },
    {
     "name": "stderr",
     "output_type": "stream",
     "text": [
      "/tmp/ipykernel_599021/3923280279.py:4: UserWarning: To copy construct from a tensor, it is recommended to use sourceTensor.detach().clone() or sourceTensor.detach().clone().requires_grad_(True), rather than torch.tensor(sourceTensor).\n",
      "  x = (torch.tensor(start_ids, dtype=torch.long, device=device)[None, ...])\n"
     ]
    }
   ],
   "source": [
    "start = \"0 11 0\"\n",
    "start_ids = tokenizer.encode(start)\n",
    "print(start_ids)\n",
    "x = (torch.tensor(start_ids, dtype=torch.long, device=device)[None, ...])\n",
    "y = model.generate(x, max_new_tokens=100, temperature=1, top_k=1)\n",
    "print(tokenizer.decode(y[0].tolist()))"
   ]
  },
  {
   "cell_type": "code",
   "execution_count": 6,
   "metadata": {},
   "outputs": [
    {
     "data": {
      "image/png": "[encoded data removed]",
      "text/plain": [
       "<Figure size 1050x262.5 with 3 Axes>"
      ]
     },
     "metadata": {},
     "output_type": "display_data"
    }
   ],
   "source": [
    "input_ids = tokenizer.encode(\"0 5 0\").unsqueeze(0).to(device)\n",
    "input_ids = torch.tensor([0, 5, 0, 101, 91, 101, 96, 102]).unsqueeze(0).to(device)\n",
    "plot_logit_lens(model, tokenizer, input_ids, start_ix=0, end_ix=7)"
   ]
  },
  {
   "cell_type": "code",
   "execution_count": 11,
   "metadata": {},
   "outputs": [
    {
     "ename": "AttributeError",
     "evalue": "'GPTConfig' object has no attribute 'top_k'",
     "output_type": "error",
     "traceback": [
      "\u001b[0;31m---------------------------------------------------------------------------\u001b[0m",
      "\u001b[0;31mAttributeError\u001b[0m                            Traceback (most recent call last)",
      "Cell \u001b[0;32mIn[11], line 20\u001b[0m\n\u001b[1;32m      3\u001b[0m \u001b[38;5;66;03m# You would need to provide a config for your model to ecco\u001b[39;00m\n\u001b[1;32m      4\u001b[0m \u001b[38;5;66;03m# For now, we can try to initialize ecco's LM\u001b[39;00m\n\u001b[1;32m      5\u001b[0m \u001b[38;5;66;03m# Note: You'll likely need to create a custom model-config.yaml entry\u001b[39;00m\n\u001b[1;32m      6\u001b[0m \u001b[38;5;66;03m# for your model to specify activation layers correctly.\u001b[39;00m\n\u001b[1;32m      7\u001b[0m lm \u001b[38;5;241m=\u001b[39m ecco\u001b[38;5;241m.\u001b[39mLM(\n\u001b[1;32m      8\u001b[0m     model\u001b[38;5;241m=\u001b[39mmodel,\n\u001b[1;32m      9\u001b[0m     tokenizer\u001b[38;5;241m=\u001b[39mtokenizer,\n\u001b[0;32m   (...)\u001b[0m\n\u001b[1;32m     17\u001b[0m     }\n\u001b[1;32m     18\u001b[0m )\n\u001b[0;32m---> 20\u001b[0m output \u001b[38;5;241m=\u001b[39m \u001b[43mlm\u001b[49m\u001b[38;5;241;43m.\u001b[39;49m\u001b[43mgenerate\u001b[49m\u001b[43m(\u001b[49m\u001b[38;5;124;43m\"\u001b[39;49m\u001b[38;5;124;43mHello, my name is\u001b[39;49m\u001b[38;5;124;43m\"\u001b[39;49m\u001b[43m,\u001b[49m\u001b[43m \u001b[49m\u001b[43mgenerate\u001b[49m\u001b[38;5;241;43m=\u001b[39;49m\u001b[38;5;241;43m5\u001b[39;49m\u001b[43m)\u001b[49m\n",
      "File \u001b[0;32m~/miniconda3/envs/general/lib/python3.10/site-packages/ecco/lm.py:180\u001b[0m, in \u001b[0;36mLM.generate\u001b[0;34m(self, input_str, max_length, temperature, top_k, top_p, do_sample, attribution, generate, beam_size, **generate_kwargs)\u001b[0m\n\u001b[1;32m    159\u001b[0m \u001b[38;5;250m\u001b[39m\u001b[38;5;124;03m\"\"\"\u001b[39;00m\n\u001b[1;32m    160\u001b[0m \u001b[38;5;124;03mGenerate tokens in response to an input prompt.\u001b[39;00m\n\u001b[1;32m    161\u001b[0m \u001b[38;5;124;03mWorks with Language models like GPT2, not masked language models like BERT.\u001b[39;00m\n\u001b[0;32m   (...)\u001b[0m\n\u001b[1;32m    175\u001b[0m \u001b[38;5;124;03m    generate_kwargs: Other arguments to be passed directly to self.model.generate\u001b[39;00m\n\u001b[1;32m    176\u001b[0m \u001b[38;5;124;03m\"\"\"\u001b[39;00m\n\u001b[1;32m    178\u001b[0m \u001b[38;5;28;01massert\u001b[39;00m \u001b[38;5;28mself\u001b[39m\u001b[38;5;241m.\u001b[39mmodel_type \u001b[38;5;129;01min\u001b[39;00m [\u001b[38;5;124m'\u001b[39m\u001b[38;5;124menc-dec\u001b[39m\u001b[38;5;124m'\u001b[39m, \u001b[38;5;124m'\u001b[39m\u001b[38;5;124mcausal\u001b[39m\u001b[38;5;124m'\u001b[39m], \u001b[38;5;124mf\u001b[39m\u001b[38;5;124m\"\u001b[39m\u001b[38;5;124mgenerate method not supported for model type \u001b[39m\u001b[38;5;124m'\u001b[39m\u001b[38;5;132;01m{\u001b[39;00m\u001b[38;5;28mself\u001b[39m\u001b[38;5;241m.\u001b[39mmodel_type\u001b[38;5;132;01m}\u001b[39;00m\u001b[38;5;124m'\u001b[39m\u001b[38;5;124m\"\u001b[39m\n\u001b[0;32m--> 180\u001b[0m top_k \u001b[38;5;241m=\u001b[39m top_k \u001b[38;5;28;01mif\u001b[39;00m top_k \u001b[38;5;129;01mis\u001b[39;00m \u001b[38;5;129;01mnot\u001b[39;00m \u001b[38;5;28;01mNone\u001b[39;00m \u001b[38;5;28;01melse\u001b[39;00m \u001b[38;5;28;43mself\u001b[39;49m\u001b[38;5;241;43m.\u001b[39;49m\u001b[43mmodel\u001b[49m\u001b[38;5;241;43m.\u001b[39;49m\u001b[43mconfig\u001b[49m\u001b[38;5;241;43m.\u001b[39;49m\u001b[43mtop_k\u001b[49m\n\u001b[1;32m    181\u001b[0m top_p \u001b[38;5;241m=\u001b[39m top_p \u001b[38;5;28;01mif\u001b[39;00m top_p \u001b[38;5;129;01mis\u001b[39;00m \u001b[38;5;129;01mnot\u001b[39;00m \u001b[38;5;28;01mNone\u001b[39;00m \u001b[38;5;28;01melse\u001b[39;00m \u001b[38;5;28mself\u001b[39m\u001b[38;5;241m.\u001b[39mmodel\u001b[38;5;241m.\u001b[39mconfig\u001b[38;5;241m.\u001b[39mtop_p\n\u001b[1;32m    182\u001b[0m temperature \u001b[38;5;241m=\u001b[39m temperature \u001b[38;5;28;01mif\u001b[39;00m temperature \u001b[38;5;129;01mis\u001b[39;00m \u001b[38;5;129;01mnot\u001b[39;00m \u001b[38;5;28;01mNone\u001b[39;00m \u001b[38;5;28;01melse\u001b[39;00m \u001b[38;5;28mself\u001b[39m\u001b[38;5;241m.\u001b[39mmodel\u001b[38;5;241m.\u001b[39mconfig\u001b[38;5;241m.\u001b[39mtemperature\n",
      "\u001b[0;31mAttributeError\u001b[0m: 'GPTConfig' object has no attribute 'top_k'"
     ]
    }
   ],
   "source": [
    "import ecco\n",
    "\n",
    "# You would need to provide a config for your model to ecco\n",
    "# For now, we can try to initialize ecco's LM\n",
    "# Note: You'll likely need to create a custom model-config.yaml entry\n",
    "# for your model to specify activation layers correctly.\n",
    "lm = ecco.LM(\n",
    "    model=model,\n",
    "    tokenizer=tokenizer,\n",
    "    model_name='my-gpt', # A custom name\n",
    "    config={ # A minimal config for ecco\n",
    "        'model_name': 'my-gpt',\n",
    "        'type': 'causal',\n",
    "        'embedding': 'transformer.wte', # Path to embedding layer\n",
    "        'activations': [\".*mlp.c_fc\"], # Regex to find activation layers\n",
    "        'tokenizer_config': {}\n",
    "    }\n",
    ")\n",
    "\n",
    "output = lm.generate(\"Hello, my name is\", generate=5)"
   ]
  }
 ],
 "metadata": {
  "kernelspec": {
   "display_name": "general",
   "language": "python",
   "name": "python3"
  },
  "language_info": {
   "codemirror_mode": {
    "name": "ipython",
    "version": 3
   },
   "file_extension": ".py",
   "mimetype": "text/x-python",
   "name": "python",
   "nbconvert_exporter": "python",
   "pygments_lexer": "ipython3",
   "version": "3.10.18"
  }
 },
 "nbformat": 4,
 "nbformat_minor": 2
}

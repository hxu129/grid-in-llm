{
 "cells": [
  {
   "cell_type": "code",
   "execution_count": 1,
   "metadata": {},
   "outputs": [
    {
     "name": "stdout",
     "output_type": "stream",
     "text": [
      "number of parameters: 2.67M\n",
      "Loading meta from data/maze/maze_nav_data/meta.pkl...\n",
      "Starting with: 0 5 0\n",
      "Encoded as: [0, 5, 0]\n"
     ]
    },
    {
     "name": "stderr",
     "output_type": "stream",
     "text": [
      "/home/xh/projects/grid-in-llm/model.py:429: UserWarning: To copy construct from a tensor, it is recommended to use sourceTensor.detach().clone() or sourceTensor.detach().clone().requires_grad_(True), rather than torch.tensor(sourceTensor).\n",
      "  input_ids = torch.tensor(input_ids, device=self.device)\n"
     ]
    },
    {
     "name": "stdout",
     "output_type": "stream",
     "text": [
      "Sample 1:\n",
      "Raw tokens: [0, 5, 0, 101, 94, 102, 94, 102, 94, 101, 94, 100, 84, 102, 72, 102, 94, 102, 94, 102, 94, 102, 94, 102, 94, 102, 94, 102, 94, 102, 94, 100, 94, 100, 94, 102, 54, 102, 44, 102, 43, 102, 33, 100, 34, 100, 15, 100, 15, 100, 94, 100, 94, 102, 94, 102, 24, 102, 25, 102, 54, 102, 54, 102, 54, 102, 63, 102, 63, 102, 84, 101, 84, 102, 94, 100, 94, 101, 94, 100, 94, 100, 19, 103, 94, 103, 8, 100, 8, 103, 7, 103, 5]\n",
      "Decoded: 0 5 0 right 94 down 94 down 94 right 94 up 84 down 72 down 94 down 94 down 94 down 94 down 94 down 94 down 94 down 94 up 94 up 94 down 54 down 44 down 43 down 33 up 34 up 15 up 15 up 94 up 94 down 94 down 24 down 25 down 54 down 54 down 54 down 63 down 63 down 84 right 84 down 94 up 94 right 94 up 94 up 19 left 94 left 8 up 8 left 7 left 5\n",
      "---------------\n"
     ]
    }
   ],
   "source": [
    "\"\"\"\n",
    "Sample from a trained model\n",
    "\"\"\"\n",
    "import os\n",
    "import pickle\n",
    "from contextlib import nullcontext\n",
    "import torch\n",
    "import tiktoken\n",
    "from model import GPTConfig, GPT\n",
    "\n",
    "# -----------------------------------------------------------------------------\n",
    "init_from = 'resume' # either 'resume' (from an out_dir) or a gpt2 variant (e.g. 'gpt2-xl')\n",
    "out_dir = 'out' # ignored if init_from is not 'resume'\n",
    "start = \"0 5 0\" # or \"<|endoftext|>\" or etc. Can also specify a file, use as: \"FILE:prompt.txt\"\n",
    "num_samples = 1 # number of samples to draw\n",
    "max_new_tokens = 500 # number of tokens generated in each sample\n",
    "temperature = 0.8 # 1.0 = no change, < 1.0 = less random, > 1.0 = more random, in predictions\n",
    "top_k = 200 # retain only the top_k most likely tokens, clamp others to have 0 probability\n",
    "seed = 1337\n",
    "device = 'cuda' # examples: 'cpu', 'cuda', 'cuda:0', 'cuda:1', etc.\n",
    "dtype = 'bfloat16' if torch.cuda.is_available() and torch.cuda.is_bf16_supported() else 'float16' # 'float32' or 'bfloat16' or 'float16'\n",
    "compile = False # use PyTorch 2.0 to compile the model to be faster\n",
    "# -----------------------------------------------------------------------------\n",
    "# Configuration for training GPT on maze navigation data\n",
    "# Optimized for path learning task\n",
    "\n",
    "# I/O\n",
    "out_dir = 'out-maze-nav'\n",
    "eval_interval = 250\n",
    "log_interval = 10\n",
    "eval_iters = 100\n",
    "eval_only = False\n",
    "always_save_checkpoint = True\n",
    "\n",
    "# wandb logging\n",
    "wandb_log = False\n",
    "wandb_project = 'maze-nav'\n",
    "wandb_run_name = 'maze-nav-gpt'\n",
    "\n",
    "# data\n",
    "dataset = 'maze/maze_nav_data'  # This should match your maze data directory\n",
    "gradient_accumulation_steps = 1  # Reduced for smaller sequences\n",
    "batch_size = 32  # Reasonable batch size for path learning\n",
    "max_seq_len = 512  # Maximum sequence length for any path (no artificial limit)\n",
    "\n",
    "# model - smaller model suitable for maze navigation\n",
    "n_layer = 6   # Fewer layers for simpler task\n",
    "n_head = 6    # Fewer attention heads\n",
    "n_embd = 192  # Smaller embedding dimension\n",
    "dropout = 0.1 # Some dropout for regularization\n",
    "bias = False  # Cleaner model\n",
    "\n",
    "# adamw optimizer\n",
    "learning_rate = 3e-4  # Slightly higher learning rate\n",
    "max_iters = 5000      # Fewer iterations needed\n",
    "weight_decay = 1e-1\n",
    "beta1 = 0.9\n",
    "beta2 = 0.95\n",
    "grad_clip = 1.0\n",
    "\n",
    "# learning rate decay settings\n",
    "decay_lr = True\n",
    "warmup_iters = 100    # Quick warmup\n",
    "lr_decay_iters = 5000 # Match max_iters\n",
    "min_lr = 3e-5\n",
    "\n",
    "# DDP settings\n",
    "backend = 'nccl'\n",
    "\n",
    "# system\n",
    "device = 'cuda'\n",
    "# Note: dtype check is done in train.py\n",
    "dtype = 'bfloat16'  # will be validated in train.py\n",
    "compile = False \n",
    "\n",
    "\n",
    "# -----------------------------------------------------------------------------\n",
    "\n",
    "torch.manual_seed(seed)\n",
    "torch.cuda.manual_seed(seed)\n",
    "torch.backends.cuda.matmul.allow_tf32 = True # allow tf32 on matmul\n",
    "torch.backends.cudnn.allow_tf32 = True # allow tf32 on cudnn\n",
    "device_type = 'cuda' if 'cuda' in device else 'cpu' # for later use in torch.autocast\n",
    "ptdtype = {'float32': torch.float32, 'bfloat16': torch.bfloat16, 'float16': torch.float16}[dtype]\n",
    "ctx = nullcontext() if device_type == 'cpu' else torch.amp.autocast(device_type=device_type, dtype=ptdtype)\n",
    "\n",
    "# model\n",
    "if init_from == 'resume':\n",
    "    # init from a model saved in a specific directory\n",
    "    ckpt_path = os.path.join(out_dir, 'ckpt.pt')\n",
    "    checkpoint = torch.load(ckpt_path, map_location=device)\n",
    "    gptconf = GPTConfig(**checkpoint['model_args'])\n",
    "    model = GPT(gptconf)\n",
    "    state_dict = checkpoint['model']\n",
    "    unwanted_prefix = '_orig_mod.'\n",
    "    for k,v in list(state_dict.items()):\n",
    "        if k.startswith(unwanted_prefix):\n",
    "            state_dict[k[len(unwanted_prefix):]] = state_dict.pop(k)\n",
    "    model.load_state_dict(state_dict)\n",
    "elif init_from.startswith('gpt2'):\n",
    "    # init from a given GPT-2 model\n",
    "    model = GPT.from_pretrained(init_from, dict(dropout=0.0))\n",
    "\n",
    "model.eval()\n",
    "model.to(device)\n",
    "if compile:\n",
    "    model = torch.compile(model) # requires PyTorch 2.0 (optional)\n",
    "\n",
    "# look for the meta pickle in case it is available in the dataset folder\n",
    "load_meta = False\n",
    "if init_from == 'resume' and 'config' in checkpoint and 'dataset' in checkpoint['config']: # older checkpoints might not have these...\n",
    "    meta_path = os.path.join('data', checkpoint['config']['dataset'], 'meta.pkl')\n",
    "    load_meta = os.path.exists(meta_path)\n",
    "if load_meta:\n",
    "    print(f\"Loading meta from {meta_path}...\")\n",
    "    with open(meta_path, 'rb') as f:\n",
    "        meta = pickle.load(f)\n",
    "    # Handle both string and integer tokens for maze navigation\n",
    "    stoi, itos = meta['stoi'], meta['itos']\n",
    "    \n",
    "    def encode(s):\n",
    "        if isinstance(s, str):\n",
    "            if s.isdigit():\n",
    "                # Handle numeric node IDs\n",
    "                return [stoi[s]] if s in stoi else [int(s)]\n",
    "            else:\n",
    "                # Handle direction tokens or other strings\n",
    "                tokens = s.split()\n",
    "                return [stoi[token] if token in stoi else int(token) if token.isdigit() else stoi.get(token, 0) for token in tokens]\n",
    "        elif isinstance(s, list):\n",
    "            # Handle list of tokens\n",
    "            return [stoi[str(token)] if str(token) in stoi else (int(token) if isinstance(token, str) and token.isdigit() else token) for token in s]\n",
    "        else:\n",
    "            return [stoi[str(s)] if str(s) in stoi else s]\n",
    "    \n",
    "    def decode(l):\n",
    "        if 'direction_tokens' in meta:\n",
    "            # Maze navigation specific decoding\n",
    "            result = []\n",
    "            for i in l:\n",
    "                token = itos.get(i, str(i))\n",
    "                result.append(token)\n",
    "            return ' '.join(result)\n",
    "        else:\n",
    "            # Standard string concatenation\n",
    "            return ''.join([itos.get(i, str(i)) for i in l])\n",
    "else:\n",
    "    # # ok let's assume gpt-2 encodings by default\n",
    "    # print(\"No meta.pkl found, assuming GPT-2 encodings...\")\n",
    "    # enc = tiktoken.get_encoding(\"gpt2\")\n",
    "    # encode = lambda s: enc.encode(s, allowed_special={\"<|endoftext|>\"})\n",
    "    # decode = lambda l: enc.decode(l)\n",
    "    raise ValueError(\"No meta.pkl found\")\n",
    "\n",
    "# encode the beginning of the prompt\n",
    "if start.startswith('FILE:'):\n",
    "    with open(start[5:], 'r', encoding='utf-8') as f:\n",
    "        start = f.read()\n",
    "\n",
    "print(f\"Starting with: {start}\")\n",
    "start_ids = encode(start)\n",
    "print(f\"Encoded as: {start_ids}\")\n",
    "x = (torch.tensor(start_ids, dtype=torch.long, device=device)[None, ...])\n",
    "\n",
    "# run generation\n",
    "with torch.no_grad():\n",
    "    with ctx:\n",
    "        for k in range(num_samples):\n",
    "            y = model.generate(x, max_new_tokens, temperature=temperature, top_k=top_k)\n",
    "            generated_sequence = y[0].tolist()\n",
    "            decoded_output = decode(generated_sequence)\n",
    "            print(f\"Sample {k+1}:\")\n",
    "            print(f\"Raw tokens: {generated_sequence}\")\n",
    "            print(f\"Decoded: {decoded_output}\")\n",
    "            print('---------------')\n"
   ]
  },
  {
   "cell_type": "code",
   "execution_count": 2,
   "metadata": {},
   "outputs": [],
   "source": [
    "# To use the logit lens we have to define tokenizer\n",
    "import numpy as np\n",
    "\n",
    "class MazeNavTokenizer:\n",
    "    def __init__(self, encode, decode):\n",
    "        self._encode_fn = encode\n",
    "        self._decode_fn = decode\n",
    "\n",
    "    def encode(self, x):\n",
    "        return torch.tensor(self._encode_fn(x))\n",
    "\n",
    "    def __call__(self, x, **kwargs):\n",
    "        \"Return the token ids in ecco style\"\n",
    "        return self.encode(x)\n",
    "\n",
    "    def decode(self, x):\n",
    "        \"\"\"Decode tokens - handles both single tokens and lists\"\"\"\n",
    "        # Handle different input types\n",
    "        if isinstance(x, torch.Tensor):\n",
    "            if x.dim() == 0:  # Single token (0-d tensor)\n",
    "                x = [x.item()]\n",
    "            else:\n",
    "                x = x.tolist()\n",
    "        elif isinstance(x, (np.ndarray, np.number)):\n",
    "            # Handle numpy arrays/scalars\n",
    "            if np.isscalar(x) or x.ndim == 0:\n",
    "                x = [int(x)]\n",
    "            else:\n",
    "                x = x.tolist()\n",
    "        elif not isinstance(x, list):\n",
    "            # Single token ID (int, float, etc.)\n",
    "            x = [x]\n",
    "        \n",
    "        # Convert any remaining numpy types in the list to regular Python types\n",
    "        clean_x = []\n",
    "        for item in x:\n",
    "            if hasattr(item, 'item'):  # numpy arrays and tensors\n",
    "                clean_x.append(item.item())\n",
    "            elif isinstance(item, (np.ndarray, np.number)):\n",
    "                clean_x.append(int(item))\n",
    "            else:\n",
    "                clean_x.append(item)\n",
    "        \n",
    "        # Now clean_x is always a list of hashable types, use the original decode function\n",
    "        return self._decode_fn(clean_x)\n",
    "    \n",
    "    def convert_tokens_to_ids(self, tokens):\n",
    "        return self.encode(tokens)\n",
    "    \n",
    "    def convert_ids_to_tokens(self, ids):\n",
    "        \"\"\"Convert token IDs to tokens\"\"\"\n",
    "        # Handle different input types\n",
    "        if isinstance(ids, torch.Tensor):\n",
    "            ids = ids.tolist()\n",
    "        elif not isinstance(ids, list):\n",
    "            ids = [ids]\n",
    "        \n",
    "        # For convert_ids_to_tokens, we need to return individual tokens\n",
    "        # not a joined string, so we'll decode each token separately\n",
    "        result = []\n",
    "        for token_id in ids:\n",
    "            # Handle numpy arrays and other numeric types\n",
    "            if hasattr(token_id, 'item'):  # numpy arrays and tensors\n",
    "                token_id = token_id.item()\n",
    "            elif isinstance(token_id, (np.ndarray, np.number)):\n",
    "                token_id = int(token_id)\n",
    "            \n",
    "            token_str = self._decode_fn([token_id])\n",
    "            result.append(token_str)\n",
    "        return result\n",
    "\n",
    "tokenizer = MazeNavTokenizer(encode, decode)"
   ]
  },
  {
   "cell_type": "code",
   "execution_count": 3,
   "metadata": {},
   "outputs": [
    {
     "name": "stdout",
     "output_type": "stream",
     "text": [
      "call: tensor([  1, 103,   2])\n",
      "Encoded '2 right 3': tensor([  2, 101,   3])\n",
      "Decoded back: 2 right 3\n",
      "__call__('2 right 3'): tensor([  2, 101,   3])\n",
      "convert_tokens_to_ids('1 left 2'): tensor([  1, 103,   2])\n",
      "convert_ids_to_tokens(tensor([  1, 103,   2])): ['1', 'left', '2']\n",
      "Decoded from list: 2 right 3\n",
      "Encoded empty string: tensor([])\n",
      "Decoded empty string: \n",
      "Single token tensor: 1\n",
      "Single token decoded: 1\n",
      "Single token ID 103 decoded: left\n",
      "convert_ids_to_tokens([1]): ['1']\n",
      "convert_ids_to_tokens(1): ['1']\n",
      "Numpy token: 103 (type: <class 'numpy.ndarray'>)\n",
      "Numpy token decoded: 'left'\n",
      "convert_ids_to_tokens([numpy_token]): ['left']\n",
      "Numpy list: [array(1), array(103), array(2)]\n",
      "Numpy list decoded: '1 left 2'\n"
     ]
    }
   ],
   "source": [
    "# test the tokenizer\n",
    "text = \"1 left 2\"\n",
    "print(f\"call: {tokenizer(text)}\")\n",
    "\n",
    "# Additional tests for the MazeNavTokenizer\n",
    "# Test 1: Encoding and decoding a simple string\n",
    "test_str = \"2 right 3\"\n",
    "encoded = tokenizer.encode(test_str)\n",
    "print(f\"Encoded '{test_str}': {encoded}\")\n",
    "decoded = tokenizer.decode(encoded)\n",
    "print(f\"Decoded back: {decoded}\")\n",
    "\n",
    "# Test 2: __call__ method\n",
    "call_result = tokenizer(test_str)\n",
    "print(f\"__call__('{test_str}'): {call_result}\")\n",
    "\n",
    "# Test 3: convert_tokens_to_ids and convert_ids_to_tokens\n",
    "tokens = \"1 left 2\"\n",
    "ids = tokenizer.convert_tokens_to_ids(tokens)\n",
    "print(f\"convert_tokens_to_ids('{tokens}'): {ids}\")\n",
    "tokens_back = tokenizer.convert_ids_to_tokens(ids)\n",
    "print(f\"convert_ids_to_tokens({ids}): {tokens_back}\")\n",
    "\n",
    "# Test 4: Decoding a list of ids\n",
    "if hasattr(encoded, 'tolist'):\n",
    "    ids_list = encoded.tolist()\n",
    "else:\n",
    "    ids_list = list(encoded)\n",
    "decoded_list = tokenizer.decode(ids_list)\n",
    "print(f\"Decoded from list: {decoded_list}\")\n",
    "\n",
    "# Test 5: Edge case - empty string\n",
    "empty_encoded = tokenizer.encode(\"\")\n",
    "print(f\"Encoded empty string: {empty_encoded}\")\n",
    "empty_decoded = tokenizer.decode(empty_encoded)\n",
    "print(f\"Decoded empty string: {empty_decoded}\")\n",
    "\n",
    "# Test 6: Single token decoding (the problematic case)\n",
    "single_token = torch.tensor(1)\n",
    "print(f\"Single token tensor: {single_token}\")\n",
    "single_decoded = tokenizer.decode(single_token)\n",
    "print(f\"Single token decoded: {single_decoded}\")\n",
    "\n",
    "# Test 7: Single token ID as int\n",
    "single_id = 103\n",
    "single_decoded_int = tokenizer.decode(single_id)\n",
    "print(f\"Single token ID {single_id} decoded: {single_decoded_int}\")\n",
    "\n",
    "# Test 8: convert_ids_to_tokens with single token (what ecco uses)\n",
    "single_token_list = tokenizer.convert_ids_to_tokens([1])\n",
    "print(f\"convert_ids_to_tokens([1]): {single_token_list}\")\n",
    "single_token_only = tokenizer.convert_ids_to_tokens(1)\n",
    "print(f\"convert_ids_to_tokens(1): {single_token_only}\")\n",
    "\n",
    "# Test 9: numpy array handling (the new problematic case)\n",
    "import numpy as np\n",
    "numpy_token = np.array(103)\n",
    "print(f\"Numpy token: {numpy_token} (type: {type(numpy_token)})\")\n",
    "numpy_decoded = tokenizer.decode(numpy_token)\n",
    "print(f\"Numpy token decoded: '{numpy_decoded}'\")\n",
    "\n",
    "numpy_tokens_list = tokenizer.convert_ids_to_tokens([numpy_token])\n",
    "print(f\"convert_ids_to_tokens([numpy_token]): {numpy_tokens_list}\")\n",
    "\n",
    "# Test 10: numpy array in list\n",
    "numpy_list = [np.array(1), np.array(103), np.array(2)]\n",
    "print(f\"Numpy list: {numpy_list}\")\n",
    "numpy_list_decoded = tokenizer.decode(numpy_list)\n",
    "print(f\"Numpy list decoded: '{numpy_list_decoded}'\")\n"
   ]
  },
  {
   "cell_type": "code",
   "execution_count": 4,
   "metadata": {},
   "outputs": [
    {
     "name": "stdout",
     "output_type": "stream",
     "text": [
      "Model structure:\n",
      "model.base_model: <class 'torch.nn.modules.container.ModuleDict'>\n",
      "model.base_model.h: <class 'torch.nn.modules.container.ModuleList'>\n",
      "\n",
      "All modules in base_model:\n",
      "  h.0.ln_1: <class 'torch.nn.modules.normalization.LayerNorm'>\n",
      "  h.0.ln_2: <class 'torch.nn.modules.normalization.LayerNorm'>\n",
      "  h.1.ln_1: <class 'torch.nn.modules.normalization.LayerNorm'>\n",
      "  h.1.ln_2: <class 'torch.nn.modules.normalization.LayerNorm'>\n",
      "  h.2.ln_1: <class 'torch.nn.modules.normalization.LayerNorm'>\n",
      "  h.2.ln_2: <class 'torch.nn.modules.normalization.LayerNorm'>\n",
      "  h.3.ln_1: <class 'torch.nn.modules.normalization.LayerNorm'>\n",
      "  h.3.ln_2: <class 'torch.nn.modules.normalization.LayerNorm'>\n",
      "  h.4.ln_1: <class 'torch.nn.modules.normalization.LayerNorm'>\n",
      "  h.4.ln_2: <class 'torch.nn.modules.normalization.LayerNorm'>\n",
      "  h.5.ln_1: <class 'torch.nn.modules.normalization.LayerNorm'>\n",
      "  h.5.ln_2: <class 'torch.nn.modules.normalization.LayerNorm'>\n",
      "  ln_f: <class 'torch.nn.modules.normalization.LayerNorm'>\n",
      "\n",
      "Direct access tests:\n",
      "hasattr(model.base_model, 'ln_f'): True\n",
      "hasattr(model.base_model, 'final_layernorm'): True\n",
      "model.base_model.ln_f: <class 'torch.nn.modules.normalization.LayerNorm'>\n",
      "model.base_model.final_layernorm: <class 'torch.nn.modules.normalization.LayerNorm'>\n",
      "model.lm_head: <class 'torch.nn.modules.linear.Linear'>\n"
     ]
    }
   ],
   "source": [
    "# Test if the model structure is compatible with transformer_utils\n",
    "print(\"Model structure:\")\n",
    "print(\"model.base_model:\", type(model.base_model))\n",
    "print(\"model.base_model.h:\", type(model.base_model.h))\n",
    "\n",
    "# Check what modules the library can find\n",
    "print(\"\\nAll modules in base_model:\")\n",
    "for name, module in model.base_model.named_modules():\n",
    "    if 'norm' in name.lower() or 'ln' in name.lower():\n",
    "        print(f\"  {name}: {type(module)}\")\n",
    "\n",
    "# Let's also check the model structure more deeply        \n",
    "print(\"\\nDirect access tests:\")\n",
    "print(\"hasattr(model.base_model, 'ln_f'):\", hasattr(model.base_model, 'ln_f'))\n",
    "print(\"hasattr(model.base_model, 'final_layernorm'):\", hasattr(model.base_model, 'final_layernorm'))\n",
    "\n",
    "if hasattr(model.base_model, 'ln_f'):\n",
    "    print(\"model.base_model.ln_f:\", type(model.base_model.ln_f))\n",
    "if hasattr(model.base_model, 'final_layernorm'):\n",
    "    print(\"model.base_model.final_layernorm:\", type(model.base_model.final_layernorm))\n",
    "print(\"model.lm_head:\", type(model.lm_head))"
   ]
  },
  {
   "cell_type": "code",
   "execution_count": 5,
   "metadata": {},
   "outputs": [
    {
     "name": "stderr",
     "output_type": "stream",
     "text": [
      "/home/xh/miniconda3/envs/general/lib/python3.10/site-packages/tqdm/auto.py:21: TqdmWarning: IProgress not found. Please update jupyter and ipywidgets. See https://ipywidgets.readthedocs.io/en/stable/user_install.html\n",
      "  from .autonotebook import tqdm as notebook_tqdm\n"
     ]
    }
   ],
   "source": [
    "from transformer_utils.logit_lens import plot_logit_lens\n",
    "from transformer_utils.partial_forward import partial_forward"
   ]
  },
  {
   "cell_type": "code",
   "execution_count": 6,
   "metadata": {},
   "outputs": [
    {
     "name": "stdout",
     "output_type": "stream",
     "text": [
      "tensor([  0, 103,   0])\n",
      "0 left 0 right 94 down 94 down 94 down 84 down 84 down 72 down 94 down 94 down 94 down 94 down 94 down 94 down 94 down 94 up 94 up 94 down 54 down 44 down 43 down 33 up 34 up 15 up 15 up 94 up 94 down 94 down 24 down 25 down 54 down 54 down 54 down 63 down 63 down 84 right 84 down 94 up 94 right 94 up 94 up 19 left\n"
     ]
    },
    {
     "name": "stderr",
     "output_type": "stream",
     "text": [
      "/tmp/ipykernel_676766/3027196031.py:4: UserWarning: To copy construct from a tensor, it is recommended to use sourceTensor.detach().clone() or sourceTensor.detach().clone().requires_grad_(True), rather than torch.tensor(sourceTensor).\n",
      "  x = (torch.tensor(start_ids, dtype=torch.long, device=device)[None, ...])\n",
      "/home/xh/projects/grid-in-llm/model.py:429: UserWarning: To copy construct from a tensor, it is recommended to use sourceTensor.detach().clone() or sourceTensor.detach().clone().requires_grad_(True), rather than torch.tensor(sourceTensor).\n",
      "  input_ids = torch.tensor(input_ids, device=self.device)\n"
     ]
    }
   ],
   "source": [
    "start = \"0 left 0\"\n",
    "start_ids = tokenizer.encode(start)\n",
    "print(start_ids)\n",
    "x = (torch.tensor(start_ids, dtype=torch.long, device=device)[None, ...])\n",
    "y = model.generate(x, max_length=100, temperature=1, top_k=1)\n",
    "print(tokenizer.decode(y[0].tolist()))"
   ]
  },
  {
   "cell_type": "code",
   "execution_count": 7,
   "metadata": {},
   "outputs": [
    {
     "data": {
      "image/png": "[encoded data removed]",
      "text/plain": [
       "<Figure size 1050x262.5 with 3 Axes>"
      ]
     },
     "metadata": {},
     "output_type": "display_data"
    }
   ],
   "source": [
    "input_ids = tokenizer.encode(\"0 5 0\").unsqueeze(0).to(device)\n",
    "input_ids = torch.tensor([0, 5, 0, 101, 91, 101, 96, 102]).unsqueeze(0).to(device)\n",
    "plot_logit_lens(model, tokenizer, input_ids, start_ix=0, end_ix=7)"
   ]
  },
  {
   "cell_type": "code",
   "execution_count": 8,
   "metadata": {},
   "outputs": [],
   "source": [
    "import ecco"
   ]
  },
  {
   "cell_type": "code",
   "execution_count": 22,
   "metadata": {},
   "outputs": [
    {
     "name": "stdout",
     "output_type": "stream",
     "text": [
      "Input text: 1 2 1\n",
      "Input IDs: tensor([[1, 2, 1]])\n"
     ]
    },
    {
     "data": {
      "text/html": [
       "<html lang=\"en\">\n",
       "<script src=\"https://requirejs.org/docs/release/2.3.6/minified/require.js\"></script>\n",
       "<script>\n",
       "    var ecco_url = 'https://storage.googleapis.com/ml-intro/ecco/'\n",
       "    //var ecco_url = 'http://localhost:8000/'\n",
       "\n",
       "    if (window.ecco === undefined) window.ecco = {}\n",
       "\n",
       "    // Setup the paths of the script we'll be using\n",
       "    requirejs.config({\n",
       "        urlArgs: \"bust=\" + (new Date()).getTime(),\n",
       "        nodeRequire: require,\n",
       "        paths: {\n",
       "            d3: \"https://d3js.org/d3.v6.min\", // This is only for use in setup.html and basic.html\n",
       "            \"d3-array\": \"https://d3js.org/d3-array.v2.min\",\n",
       "            jquery: \"https://code.jquery.com/jquery-3.5.1.min\",\n",
       "            ecco: ecco_url + 'js/0.0.6/ecco-bundle.min',\n",
       "            xregexp: 'https://cdnjs.cloudflare.com/ajax/libs/xregexp/3.2.0/xregexp-all.min'\n",
       "        }\n",
       "    });\n",
       "\n",
       "    // Add the css file\n",
       "    //requirejs(['d3'],\n",
       "    //    function (d3) {\n",
       "    //        d3.select('#css').attr('href', ecco_url + 'html/styles.css')\n",
       "    //    })\n",
       "\n",
       "    console.log('Ecco initialize!!')\n",
       "\n",
       "    // returns a 'basic' object. basic.init() selects the html div we'll be\n",
       "    // rendering the html into, adds styles.css to the document.\n",
       "    define('basic', ['d3'],\n",
       "        function (d3) {\n",
       "            return {\n",
       "                init: function (viz_id = null) {\n",
       "                    if (viz_id == null) {\n",
       "                        viz_id = \"viz_\" + Math.round(Math.random() * 10000000)\n",
       "                    }\n",
       "                    // Select the div rendered below, change its id\n",
       "                    const div = d3.select('#basic').attr('id', viz_id),\n",
       "                        div_parent = d3.select('#' + viz_id).node().parentNode\n",
       "\n",
       "                    // Link to CSS file\n",
       "                    d3.select(div_parent).insert('link')\n",
       "                        .attr('rel', 'stylesheet')\n",
       "                        .attr('type', 'text/css')\n",
       "                        .attr('href', ecco_url + 'html/0.0.2/styles.css')\n",
       "\n",
       "                    return viz_id\n",
       "                }\n",
       "            }\n",
       "        }, function (err) {\n",
       "            console.log(err);\n",
       "        }\n",
       "    )\n",
       "</script>\n",
       "\n",
       "<head>\n",
       "    <link id='css' rel=\"stylesheet\" type=\"text/css\">\n",
       "</head>\n",
       "<div id=\"basic\"></div>\n"
      ],
      "text/plain": [
       "<IPython.core.display.HTML object>"
      ]
     },
     "metadata": {},
     "output_type": "display_data"
    },
    {
     "data": {
      "application/javascript": "\n         requirejs( ['basic', 'ecco'], function(basic, ecco){\n            basic.init('viz_874389') // Python needs to know the viz id. Used for each output token.\n            window.ecco['viz_874389'] = new ecco.renderOutputSequence({\n                    parentDiv: 'viz_874389',\n                    data: {\"tokens\": [{\"token\": \"1\", \"is_partial\": false, \"position\": 0, \"token_id\": 1, \"type\": \"input\"}, {\"token\": \"2\", \"is_partial\": false, \"position\": 1, \"token_id\": 2, \"type\": \"input\"}, {\"token\": \"1\", \"is_partial\": false, \"position\": 2, \"token_id\": 1, \"type\": \"input\"}]},\n                    tokenization_config: {}\n\n            })\n         }, function (err) {\n            console.log(err);\n        })\n        ",
      "text/plain": [
       "<IPython.core.display.Javascript object>"
      ]
     },
     "metadata": {},
     "output_type": "display_data"
    },
    {
     "name": "stderr",
     "output_type": "stream",
     "text": [
      "/home/xh/projects/grid-in-llm/model.py:429: UserWarning: To copy construct from a tensor, it is recommended to use sourceTensor.detach().clone() or sourceTensor.detach().clone().requires_grad_(True), rather than torch.tensor(sourceTensor).\n",
      "  input_ids = torch.tensor(input_ids, device=self.device)\n"
     ]
    },
    {
     "data": {
      "application/javascript": "\n        // We don't really need these require scripts. But this is to avert\n        //this code from running before display_input_sequence which DOES require external files\n        requirejs(['basic', 'ecco'], function(basic, ecco){\n                console.log('addToken viz_id', 'viz_874389');\n                window.ecco['viz_874389'].addToken({\"token\": \"right\", \"is_partial\": false, \"token_id\": 101, \"position\": 3, \"type\": \"output\"})\n                window.ecco['viz_874389'].redraw()\n        })\n        ",
      "text/plain": [
       "<IPython.core.display.Javascript object>"
      ]
     },
     "metadata": {},
     "output_type": "display_data"
    },
    {
     "data": {
      "application/javascript": "\n        // We don't really need these require scripts. But this is to avert\n        //this code from running before display_input_sequence which DOES require external files\n        requirejs(['basic', 'ecco'], function(basic, ecco){\n                console.log('addToken viz_id', 'viz_874389');\n                window.ecco['viz_874389'].addToken({\"token\": \"94\", \"is_partial\": false, \"token_id\": 94, \"position\": 4, \"type\": \"output\"})\n                window.ecco['viz_874389'].redraw()\n        })\n        ",
      "text/plain": [
       "<IPython.core.display.Javascript object>"
      ]
     },
     "metadata": {},
     "output_type": "display_data"
    },
    {
     "data": {
      "application/javascript": "\n        // We don't really need these require scripts. But this is to avert\n        //this code from running before display_input_sequence which DOES require external files\n        requirejs(['basic', 'ecco'], function(basic, ecco){\n                console.log('addToken viz_id', 'viz_874389');\n                window.ecco['viz_874389'].addToken({\"token\": \"down\", \"is_partial\": false, \"token_id\": 102, \"position\": 5, \"type\": \"output\"})\n                window.ecco['viz_874389'].redraw()\n        })\n        ",
      "text/plain": [
       "<IPython.core.display.Javascript object>"
      ]
     },
     "metadata": {},
     "output_type": "display_data"
    },
    {
     "data": {
      "application/javascript": "\n        // We don't really need these require scripts. But this is to avert\n        //this code from running before display_input_sequence which DOES require external files\n        requirejs(['basic', 'ecco'], function(basic, ecco){\n                console.log('addToken viz_id', 'viz_874389');\n                window.ecco['viz_874389'].addToken({\"token\": \"94\", \"is_partial\": false, \"token_id\": 94, \"position\": 6, \"type\": \"output\"})\n                window.ecco['viz_874389'].redraw()\n        })\n        ",
      "text/plain": [
       "<IPython.core.display.Javascript object>"
      ]
     },
     "metadata": {},
     "output_type": "display_data"
    },
    {
     "data": {
      "application/javascript": "\n        // We don't really need these require scripts. But this is to avert\n        //this code from running before display_input_sequence which DOES require external files\n        requirejs(['basic', 'ecco'], function(basic, ecco){\n                console.log('addToken viz_id', 'viz_874389');\n                window.ecco['viz_874389'].addToken({\"token\": \"down\", \"is_partial\": false, \"token_id\": 102, \"position\": 7, \"type\": \"output\"})\n                window.ecco['viz_874389'].redraw()\n        })\n        ",
      "text/plain": [
       "<IPython.core.display.Javascript object>"
      ]
     },
     "metadata": {},
     "output_type": "display_data"
    }
   ],
   "source": [
    "# Initialize ecco's LM with our fixed tokenizer\n",
    "# The tokenizer can now handle both single tokens and lists properly\n",
    "lm = ecco.LM(\n",
    "    model=model,\n",
    "    tokenizer=tokenizer,\n",
    "    model_name='maze-gpt', # A custom name for our maze navigation model\n",
    "    config={ # Config for ecco\n",
    "        'model_name': 'maze-gpt',\n",
    "        'type': 'causal',\n",
    "        'embedding': 'transformer.wte', # Path to embedding layer in our model\n",
    "        'activations': [\".*mlp.c_fc\"], # Regex to find MLP activation layers\n",
    "        'tokenizer_config': {}\n",
    "    },\n",
    "    verbose=True, # Show generation process\n",
    "    collect_activations_flag=True\n",
    ")\n",
    "\n",
    "# Test with a simple maze navigation input\n",
    "input_text = \"1 2 1\"\n",
    "input_ids = tokenizer.encode(input_text).unsqueeze(0)\n",
    "\n",
    "print(f\"Input text: {input_text}\")\n",
    "print(f\"Input IDs: {input_ids}\")\n",
    "\n",
    "# Generate a few tokens\n",
    "output = lm.generate(input_ids, generate=5, attribution=['ig', 'saliency'])"
   ]
  },
  {
   "cell_type": "code",
   "execution_count": 23,
   "metadata": {},
   "outputs": [
    {
     "data": {
      "text/html": [
       "<html lang=\"en\">\n",
       "<script src=\"https://requirejs.org/docs/release/2.3.6/minified/require.js\"></script>\n",
       "<script>\n",
       "    var ecco_url = 'https://storage.googleapis.com/ml-intro/ecco/'\n",
       "    //var ecco_url = 'http://localhost:8000/'\n",
       "\n",
       "    if (window.ecco === undefined) window.ecco = {}\n",
       "\n",
       "    // Setup the paths of the script we'll be using\n",
       "    requirejs.config({\n",
       "        urlArgs: \"bust=\" + (new Date()).getTime(),\n",
       "        nodeRequire: require,\n",
       "        paths: {\n",
       "            d3: \"https://d3js.org/d3.v6.min\", // This is only for use in setup.html and basic.html\n",
       "            \"d3-array\": \"https://d3js.org/d3-array.v2.min\",\n",
       "            jquery: \"https://code.jquery.com/jquery-3.5.1.min\",\n",
       "            ecco: ecco_url + 'js/0.0.6/ecco-bundle.min',\n",
       "            xregexp: 'https://cdnjs.cloudflare.com/ajax/libs/xregexp/3.2.0/xregexp-all.min'\n",
       "        }\n",
       "    });\n",
       "\n",
       "    // Add the css file\n",
       "    //requirejs(['d3'],\n",
       "    //    function (d3) {\n",
       "    //        d3.select('#css').attr('href', ecco_url + 'html/styles.css')\n",
       "    //    })\n",
       "\n",
       "    console.log('Ecco initialize!!')\n",
       "\n",
       "    // returns a 'basic' object. basic.init() selects the html div we'll be\n",
       "    // rendering the html into, adds styles.css to the document.\n",
       "    define('basic', ['d3'],\n",
       "        function (d3) {\n",
       "            return {\n",
       "                init: function (viz_id = null) {\n",
       "                    if (viz_id == null) {\n",
       "                        viz_id = \"viz_\" + Math.round(Math.random() * 10000000)\n",
       "                    }\n",
       "                    // Select the div rendered below, change its id\n",
       "                    const div = d3.select('#basic').attr('id', viz_id),\n",
       "                        div_parent = d3.select('#' + viz_id).node().parentNode\n",
       "\n",
       "                    // Link to CSS file\n",
       "                    d3.select(div_parent).insert('link')\n",
       "                        .attr('rel', 'stylesheet')\n",
       "                        .attr('type', 'text/css')\n",
       "                        .attr('href', ecco_url + 'html/0.0.2/styles.css')\n",
       "\n",
       "                    return viz_id\n",
       "                }\n",
       "            }\n",
       "        }, function (err) {\n",
       "            console.log(err);\n",
       "        }\n",
       "    )\n",
       "</script>\n",
       "\n",
       "<head>\n",
       "    <link id='css' rel=\"stylesheet\" type=\"text/css\">\n",
       "</head>\n",
       "<div id=\"basic\"></div>\n"
      ],
      "text/plain": [
       "<IPython.core.display.HTML object>"
      ]
     },
     "metadata": {},
     "output_type": "display_data"
    },
    {
     "data": {
      "application/javascript": "\n             requirejs(['basic', 'ecco'], function(basic, ecco){\n                const viz_id = basic.init()\n                console.log(viz_id)\n                // ecco.interactiveTokens(viz_id, {})\n                window.ecco[viz_id] = new ecco.MinimalHighlighter({\n                    parentDiv: viz_id,\n                    data: {\"tokens\": [{\"token\": \"1\", \"token_id\": 1, \"is_partial\": false, \"type\": \"input\", \"value\": \"0.022298867\", \"position\": 0}, {\"token\": \"2\", \"token_id\": 2, \"is_partial\": false, \"type\": \"input\", \"value\": \"0.034809195\", \"position\": 1}, {\"token\": \"1\", \"token_id\": 1, \"is_partial\": false, \"type\": \"input\", \"value\": \"0.9428919\", \"position\": 2}, {\"token\": \"right\", \"token_id\": 101, \"is_partial\": false, \"type\": \"output\", \"value\": \"0\", \"position\": 3}, {\"token\": \"94\", \"token_id\": 94, \"is_partial\": false, \"type\": \"output\", \"value\": \"0\", \"position\": 4}, {\"token\": \"down\", \"token_id\": 102, \"is_partial\": false, \"type\": \"output\", \"value\": \"0\", \"position\": 5}, {\"token\": \"94\", \"token_id\": 94, \"is_partial\": false, \"type\": \"output\", \"value\": \"0\", \"position\": 6}, {\"token\": \"down\", \"token_id\": 102, \"is_partial\": false, \"type\": \"output\", \"value\": \"0\", \"position\": 7}], \"attributions\": [[0.022298866882920265, 0.03480919450521469, 0.9428918957710266], [0.016652895137667656, 0.03424960374832153, 0.22875507175922394, 0.7203423976898193], [0.0038712064269930124, 0.008231882005929947, 0.09292284399271011, 0.28731459379196167, 0.6076593995094299], [0.0029622656293213367, 0.004227149300277233, 0.033648375421762466, 0.16801832616329193, 0.06710314750671387, 0.724040687084198], [0.0048387059941887856, 0.007667242083698511, 0.05330777168273926, 0.12693509459495544, 0.14196251332759857, 0.10054273903369904, 0.5647459626197815]]},\n                    preset: 'viridis',\n                    tokenization_config: {}\n\n             })\n\n             window.ecco[viz_id].init();\n             window.ecco[viz_id].selectFirstToken();\n\n             }, function (err) {\n                console.log(err);\n            })",
      "text/plain": [
       "<IPython.core.display.Javascript object>"
      ]
     },
     "metadata": {},
     "output_type": "display_data"
    }
   ],
   "source": [
    "output.primary_attributions(attr_method='ig')"
   ]
  },
  {
   "cell_type": "code",
   "execution_count": 24,
   "metadata": {},
   "outputs": [
    {
     "data": {
      "text/html": [
       "<html lang=\"en\">\n",
       "<script src=\"https://requirejs.org/docs/release/2.3.6/minified/require.js\"></script>\n",
       "<script>\n",
       "    var ecco_url = 'https://storage.googleapis.com/ml-intro/ecco/'\n",
       "    //var ecco_url = 'http://localhost:8000/'\n",
       "\n",
       "    if (window.ecco === undefined) window.ecco = {}\n",
       "\n",
       "    // Setup the paths of the script we'll be using\n",
       "    requirejs.config({\n",
       "        urlArgs: \"bust=\" + (new Date()).getTime(),\n",
       "        nodeRequire: require,\n",
       "        paths: {\n",
       "            d3: \"https://d3js.org/d3.v6.min\", // This is only for use in setup.html and basic.html\n",
       "            \"d3-array\": \"https://d3js.org/d3-array.v2.min\",\n",
       "            jquery: \"https://code.jquery.com/jquery-3.5.1.min\",\n",
       "            ecco: ecco_url + 'js/0.0.6/ecco-bundle.min',\n",
       "            xregexp: 'https://cdnjs.cloudflare.com/ajax/libs/xregexp/3.2.0/xregexp-all.min'\n",
       "        }\n",
       "    });\n",
       "\n",
       "    // Add the css file\n",
       "    //requirejs(['d3'],\n",
       "    //    function (d3) {\n",
       "    //        d3.select('#css').attr('href', ecco_url + 'html/styles.css')\n",
       "    //    })\n",
       "\n",
       "    console.log('Ecco initialize!!')\n",
       "\n",
       "    // returns a 'basic' object. basic.init() selects the html div we'll be\n",
       "    // rendering the html into, adds styles.css to the document.\n",
       "    define('basic', ['d3'],\n",
       "        function (d3) {\n",
       "            return {\n",
       "                init: function (viz_id = null) {\n",
       "                    if (viz_id == null) {\n",
       "                        viz_id = \"viz_\" + Math.round(Math.random() * 10000000)\n",
       "                    }\n",
       "                    // Select the div rendered below, change its id\n",
       "                    const div = d3.select('#basic').attr('id', viz_id),\n",
       "                        div_parent = d3.select('#' + viz_id).node().parentNode\n",
       "\n",
       "                    // Link to CSS file\n",
       "                    d3.select(div_parent).insert('link')\n",
       "                        .attr('rel', 'stylesheet')\n",
       "                        .attr('type', 'text/css')\n",
       "                        .attr('href', ecco_url + 'html/0.0.2/styles.css')\n",
       "\n",
       "                    return viz_id\n",
       "                }\n",
       "            }\n",
       "        }, function (err) {\n",
       "            console.log(err);\n",
       "        }\n",
       "    )\n",
       "</script>\n",
       "\n",
       "<head>\n",
       "    <link id='css' rel=\"stylesheet\" type=\"text/css\">\n",
       "</head>\n",
       "<div id=\"basic\"></div>\n"
      ],
      "text/plain": [
       "<IPython.core.display.HTML object>"
      ]
     },
     "metadata": {},
     "output_type": "display_data"
    },
    {
     "data": {
      "application/javascript": "\n         requirejs(['basic', 'ecco'], function(basic, ecco){\n            const viz_id = basic.init()\n\n\n            let pred = new ecco.LayerPredictions({\n                parentDiv: viz_id,\n                data:[[{\"token\": \"94\", \"prob\": \"0.030141296\", \"ranking\": 1, \"layer\": 3}, {\"token\": \"84\", \"prob\": \"0.02330629\", \"ranking\": 2, \"layer\": 3}, {\"token\": \"73\", \"prob\": \"0.019571263\", \"ranking\": 3, \"layer\": 3}, {\"token\": \"43\", \"prob\": \"0.01849892\", \"ranking\": 4, \"layer\": 3}, {\"token\": \"41\", \"prob\": \"0.017155426\", \"ranking\": 5, \"layer\": 3}, {\"token\": \"38\", \"prob\": \"0.016969621\", \"ranking\": 6, \"layer\": 3}, {\"token\": \"74\", \"prob\": \"0.015993543\", \"ranking\": 7, \"layer\": 3}, {\"token\": \"24\", \"prob\": \"0.01551189\", \"ranking\": 8, \"layer\": 3}, {\"token\": \"26\", \"prob\": \"0.015456537\", \"ranking\": 9, \"layer\": 3}, {\"token\": \"63\", \"prob\": \"0.015167058\", \"ranking\": 10, \"layer\": 3}]]\n            })\n            pred.init()\n         }, function (err) {\n            console.log(viz_id, err);\n        })",
      "text/plain": [
       "<IPython.core.display.Javascript object>"
      ]
     },
     "metadata": {},
     "output_type": "display_data"
    }
   ],
   "source": [
    "output.layer_predictions(position=4, layer=3)"
   ]
  },
  {
   "cell_type": "code",
   "execution_count": 25,
   "metadata": {},
   "outputs": [
    {
     "data": {
      "text/html": [
       "<html lang=\"en\">\n",
       "<script src=\"https://requirejs.org/docs/release/2.3.6/minified/require.js\"></script>\n",
       "<script>\n",
       "    var ecco_url = 'https://storage.googleapis.com/ml-intro/ecco/'\n",
       "    //var ecco_url = 'http://localhost:8000/'\n",
       "\n",
       "    if (window.ecco === undefined) window.ecco = {}\n",
       "\n",
       "    // Setup the paths of the script we'll be using\n",
       "    requirejs.config({\n",
       "        urlArgs: \"bust=\" + (new Date()).getTime(),\n",
       "        nodeRequire: require,\n",
       "        paths: {\n",
       "            d3: \"https://d3js.org/d3.v6.min\", // This is only for use in setup.html and basic.html\n",
       "            \"d3-array\": \"https://d3js.org/d3-array.v2.min\",\n",
       "            jquery: \"https://code.jquery.com/jquery-3.5.1.min\",\n",
       "            ecco: ecco_url + 'js/0.0.6/ecco-bundle.min',\n",
       "            xregexp: 'https://cdnjs.cloudflare.com/ajax/libs/xregexp/3.2.0/xregexp-all.min'\n",
       "        }\n",
       "    });\n",
       "\n",
       "    // Add the css file\n",
       "    //requirejs(['d3'],\n",
       "    //    function (d3) {\n",
       "    //        d3.select('#css').attr('href', ecco_url + 'html/styles.css')\n",
       "    //    })\n",
       "\n",
       "    console.log('Ecco initialize!!')\n",
       "\n",
       "    // returns a 'basic' object. basic.init() selects the html div we'll be\n",
       "    // rendering the html into, adds styles.css to the document.\n",
       "    define('basic', ['d3'],\n",
       "        function (d3) {\n",
       "            return {\n",
       "                init: function (viz_id = null) {\n",
       "                    if (viz_id == null) {\n",
       "                        viz_id = \"viz_\" + Math.round(Math.random() * 10000000)\n",
       "                    }\n",
       "                    // Select the div rendered below, change its id\n",
       "                    const div = d3.select('#basic').attr('id', viz_id),\n",
       "                        div_parent = d3.select('#' + viz_id).node().parentNode\n",
       "\n",
       "                    // Link to CSS file\n",
       "                    d3.select(div_parent).insert('link')\n",
       "                        .attr('rel', 'stylesheet')\n",
       "                        .attr('type', 'text/css')\n",
       "                        .attr('href', ecco_url + 'html/0.0.2/styles.css')\n",
       "\n",
       "                    return viz_id\n",
       "                }\n",
       "            }\n",
       "        }, function (err) {\n",
       "            console.log(err);\n",
       "        }\n",
       "    )\n",
       "</script>\n",
       "\n",
       "<head>\n",
       "    <link id='css' rel=\"stylesheet\" type=\"text/css\">\n",
       "</head>\n",
       "<div id=\"basic\"></div>\n"
      ],
      "text/plain": [
       "<IPython.core.display.HTML object>"
      ]
     },
     "metadata": {},
     "output_type": "display_data"
    },
    {
     "data": {
      "application/javascript": "\n         requirejs(['basic', 'ecco'], function(basic, ecco){\n            const viz_id = basic.init()\n\n\n            let pred = new ecco.LayerPredictions({\n                parentDiv: viz_id,\n                data:[[{\"token\": \"down\", \"prob\": \"0.17607753\", \"ranking\": 1, \"layer\": 3}, {\"token\": \"right\", \"prob\": \"0.16652265\", \"ranking\": 2, \"layer\": 3}, {\"token\": \"left\", \"prob\": \"0.12633553\", \"ranking\": 3, \"layer\": 3}, {\"token\": \"up\", \"prob\": \"0.12203207\", \"ranking\": 4, \"layer\": 3}, {\"token\": \"94\", \"prob\": \"0.007117867\", \"ranking\": 5, \"layer\": 3}, {\"token\": \"73\", \"prob\": \"0.0070593064\", \"ranking\": 6, \"layer\": 3}, {\"token\": \"95\", \"prob\": \"0.0069380114\", \"ranking\": 7, \"layer\": 3}, {\"token\": \"24\", \"prob\": \"0.0068929084\", \"ranking\": 8, \"layer\": 3}, {\"token\": \"43\", \"prob\": \"0.0065177944\", \"ranking\": 9, \"layer\": 3}, {\"token\": \"86\", \"prob\": \"0.0064276583\", \"ranking\": 10, \"layer\": 3}]]\n            })\n            pred.init()\n         }, function (err) {\n            console.log(viz_id, err);\n        })",
      "text/plain": [
       "<IPython.core.display.Javascript object>"
      ]
     },
     "metadata": {},
     "output_type": "display_data"
    }
   ],
   "source": [
    "output.layer_predictions(position=3, layer=3) # TODO: check the indexing start with what"
   ]
  },
  {
   "cell_type": "code",
   "execution_count": null,
   "metadata": {},
   "outputs": [
    {
     "name": "stderr",
     "output_type": "stream",
     "text": [
      "/home/xh/projects/grid-in-llm/open-source-library/ecco/src/ecco/output.py:469: UserWarning: To copy construct from a tensor, it is recommended to use sourceTensor.detach().clone() or sourceTensor.detach().clone().requires_grad_(True), rather than torch.tensor(sourceTensor).\n",
      "  token_id = torch.tensor(self.token_ids[0][offset + j])\n"
     ]
    },
    {
     "data": {
      "image/png": "[encoded data removed]",
      "text/plain": [
       "<Figure size 550x340 with 3 Axes>"
      ]
     },
     "metadata": {},
     "output_type": "display_data"
    }
   ],
   "source": [
    "output.rankings()"
   ]
  },
  {
   "cell_type": "code",
   "execution_count": null,
   "metadata": {},
   "outputs": [
    {
     "name": "stdout",
     "output_type": "stream",
     "text": [
      "tensor([[  1,   2,   1, 100,   4, 102,   5]])\n"
     ]
    },
    {
     "name": "stderr",
     "output_type": "stream",
     "text": [
      "/home/xh/miniconda3/envs/general/lib/python3.10/site-packages/sklearn/decomposition/_nmf.py:1728: ConvergenceWarning: Maximum number of iterations 500 reached. Increase it to improve convergence.\n",
      "  warnings.warn(\n"
     ]
    },
    {
     "data": {
      "text/html": [
       "<html lang=\"en\">\n",
       "<script src=\"https://requirejs.org/docs/release/2.3.6/minified/require.js\"></script>\n",
       "<script>\n",
       "    var ecco_url = 'https://storage.googleapis.com/ml-intro/ecco/'\n",
       "    //var ecco_url = 'http://localhost:8000/'\n",
       "\n",
       "    if (window.ecco === undefined) window.ecco = {}\n",
       "\n",
       "    // Setup the paths of the script we'll be using\n",
       "    requirejs.config({\n",
       "        urlArgs: \"bust=\" + (new Date()).getTime(),\n",
       "        nodeRequire: require,\n",
       "        paths: {\n",
       "            d3: \"https://d3js.org/d3.v6.min\", // This is only for use in setup.html and basic.html\n",
       "            \"d3-array\": \"https://d3js.org/d3-array.v2.min\",\n",
       "            jquery: \"https://code.jquery.com/jquery-3.5.1.min\",\n",
       "            ecco: ecco_url + 'js/0.0.6/ecco-bundle.min',\n",
       "            xregexp: 'https://cdnjs.cloudflare.com/ajax/libs/xregexp/3.2.0/xregexp-all.min'\n",
       "        }\n",
       "    });\n",
       "\n",
       "    // Add the css file\n",
       "    //requirejs(['d3'],\n",
       "    //    function (d3) {\n",
       "    //        d3.select('#css').attr('href', ecco_url + 'html/styles.css')\n",
       "    //    })\n",
       "\n",
       "    console.log('Ecco initialize!!')\n",
       "\n",
       "    // returns a 'basic' object. basic.init() selects the html div we'll be\n",
       "    // rendering the html into, adds styles.css to the document.\n",
       "    define('basic', ['d3'],\n",
       "        function (d3) {\n",
       "            return {\n",
       "                init: function (viz_id = null) {\n",
       "                    if (viz_id == null) {\n",
       "                        viz_id = \"viz_\" + Math.round(Math.random() * 10000000)\n",
       "                    }\n",
       "                    // Select the div rendered below, change its id\n",
       "                    const div = d3.select('#basic').attr('id', viz_id),\n",
       "                        div_parent = d3.select('#' + viz_id).node().parentNode\n",
       "\n",
       "                    // Link to CSS file\n",
       "                    d3.select(div_parent).insert('link')\n",
       "                        .attr('rel', 'stylesheet')\n",
       "                        .attr('type', 'text/css')\n",
       "                        .attr('href', ecco_url + 'html/0.0.2/styles.css')\n",
       "\n",
       "                    return viz_id\n",
       "                }\n",
       "            }\n",
       "        }, function (err) {\n",
       "            console.log(err);\n",
       "        }\n",
       "    )\n",
       "</script>\n",
       "\n",
       "<head>\n",
       "    <link id='css' rel=\"stylesheet\" type=\"text/css\">\n",
       "</head>\n",
       "<div id=\"basic\"></div>\n"
      ],
      "text/plain": [
       "<IPython.core.display.HTML object>"
      ]
     },
     "metadata": {},
     "output_type": "display_data"
    },
    {
     "data": {
      "application/javascript": "\n         requirejs(['basic', 'ecco'], function(basic, ecco){\n            const viz_id = basic.init()\n            \n            ecco.interactiveTokensAndFactorSparklines(viz_id, {'tokens': [{'token': '1', 'token_id': 1, 'type': 'input', 'position': 0}, {'token': '2', 'token_id': 2, 'type': 'input', 'position': 1}, {'token': '1', 'token_id': 1, 'type': 'input', 'position': 2}, {'token': 'up', 'token_id': 100, 'type': 'input', 'position': 3}, {'token': '4', 'token_id': 4, 'type': 'input', 'position': 4}, {'token': 'down', 'token_id': 102, 'type': 'input', 'position': 5}, {'token': '5', 'token_id': 5, 'type': 'input', 'position': 6}], 'factors': [[[0.0006542135961353779, 0.0, 0.0, 0.0, 7.395402462861966e-06, 0.8099191784858704, 0.0019532593432813883], [1.9429172277450562, 1.8907859325408936, 0.0, 0.0, 0.0, 0.0, 0.0], [0.0, 0.0, 0.0, 1.5915684700012207, 9.323299309471622e-06, 0.0007082578958943486, 0.0], [0.0, 0.0, 0.0036579640582203865, 0.0, 1.6511011123657227, 0.0004917536280117929, 0.0006916490383446217], [0.0, 0.0441439226269722, 1.0723978281021118, 0.0, 0.0, 0.0, 0.0], [0.0024494591634720564, 0.0, 0.0, 0.0, 0.0, 0.0, 1.3357634544372559], [0.02662179432809353, 0.0, 0.0, 0.8047040700912476, 0.0, 1.3114187717437744, 0.0]]]},\n            {\n            'hltrCFG': {'tokenization_config': {}\n                }\n            })\n         }, function (err) {\n            console.log(err);\n        })",
      "text/plain": [
       "<IPython.core.display.Javascript object>"
      ]
     },
     "metadata": {},
     "output_type": "display_data"
    }
   ],
   "source": [
    "input_ids = tokenizer.encode(\"1 2 1 up 4 down 5\").unsqueeze(0)  \n",
    "print(input_ids)\n",
    "output = lm(input_ids)\n",
    "nmf_output = output.run_nmf(n_components=8)\n",
    "nmf_output.explore()"
   ]
  },
  {
   "cell_type": "code",
   "execution_count": null,
   "metadata": {},
   "outputs": [],
   "source": []
  }
 ],
 "metadata": {
  "kernelspec": {
   "display_name": "general",
   "language": "python",
   "name": "python3"
  },
  "language_info": {
   "codemirror_mode": {
    "name": "ipython",
    "version": 3
   },
   "file_extension": ".py",
   "mimetype": "text/x-python",
   "name": "python",
   "nbconvert_exporter": "python",
   "pygments_lexer": "ipython3",
   "version": "3.10.18"
  }
 },
 "nbformat": 4,
 "nbformat_minor": 2
}
